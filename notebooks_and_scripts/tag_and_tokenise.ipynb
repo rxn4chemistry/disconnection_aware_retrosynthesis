{
 "cells": [
  {
   "cell_type": "code",
   "execution_count": 63,
   "metadata": {},
   "outputs": [],
   "source": [
    "import pandas as pd\n",
    "\n",
    "from rxn.chemutils.tokenization import tokenize_smiles\n",
    "from rxn.chemutils.miscellaneous import remove_atom_mapping, canonicalize_smiles\n",
    "\n",
    "from disconnection_aware_retrosynthesis.tagging import get_tagged_products"
   ]
  },
  {
   "cell_type": "markdown",
   "metadata": {},
   "source": [
    "Start from the provided data which contain atom-mapped reaction SMILES. If processing your own dataset we suggest remapping the reaction SMILES with RXNMapper or an atom-mapping tool of your choice. Your dataset should have as a minimum the 'mapped_reactions' header."
   ]
  },
  {
   "cell_type": "code",
   "execution_count": null,
   "metadata": {},
   "outputs": [],
   "source": [
    "df = pd.read_csv('complete_disconnection_labelled.csv')"
   ]
  },
  {
   "cell_type": "markdown",
   "metadata": {},
   "source": [
    "Split reactions into reactants and products"
   ]
  },
  {
   "cell_type": "code",
   "execution_count": null,
   "metadata": {},
   "outputs": [],
   "source": [
    "df[[\"reactants\", \"products\"]] = df[\"mapped_reactions\"].str.split(\">>\", expand=True)"
   ]
  },
  {
   "cell_type": "markdown",
   "metadata": {},
   "source": [
    "Tag products "
   ]
  },
  {
   "cell_type": "code",
   "execution_count": null,
   "metadata": {},
   "outputs": [],
   "source": [
    "df[\"tagged_products\"] = df.apply(lambda x: get_tagged_products(x['reactants'], x['products']), axis=1)"
   ]
  },
  {
   "cell_type": "markdown",
   "metadata": {},
   "source": [
    "Remove mapping from reactants"
   ]
  },
  {
   "cell_type": "code",
   "execution_count": null,
   "metadata": {},
   "outputs": [],
   "source": [
    "df[\"reactants\"] = df[\"reactants\"].apply(remove_atom_mapping)\n",
    "df[\"reactants\"] = df[\"reactants\"].apply(canonicalize_smiles)"
   ]
  },
  {
   "cell_type": "markdown",
   "metadata": {},
   "source": [
    "Tokenise samples for training disconnection aware retrosynthesis model and save"
   ]
  },
  {
   "cell_type": "code",
   "execution_count": null,
   "metadata": {},
   "outputs": [],
   "source": [
    "df[\"reactants\"] = df[\"reactants\"].apply(tokenize_smiles)\n",
    "df[\"tagged_products\"] = df[\"tagged_products\"].apply(tokenize_smiles)\n",
    "\n",
    "#df['reactants'].to_csv('disconnection_labelled.train.precursors_tokens', index=False, header=False)\n",
    "#df['tagged_products'].to_csv('disconnection_labelled.train.products_tokens', index=False, header=False)"
   ]
  },
  {
   "cell_type": "markdown",
   "metadata": {},
   "source": [
    "Prepare for training model for automatic identification of disconnection sites"
   ]
  },
  {
   "cell_type": "code",
   "execution_count": null,
   "metadata": {},
   "outputs": [],
   "source": [
    "df[\"products\"] = df[\"products\"].apply(remove_atom_mapping)\n",
    "df[\"products\"] = df[\"products\"].apply(canonicalize_smiles)\n",
    "df[\"products\"] = df[\"products\"].apply(tokenize_smiles)"
   ]
  },
  {
   "cell_type": "code",
   "execution_count": null,
   "metadata": {},
   "outputs": [],
   "source": [
    "#df['products'].to_csv('disconnection_labelled.train.products_tokens', index=False, header=False)\n",
    "#df['tagged_products'].to_csv('disconnection_labelled.train.tagged_products_tokens', index=False, header=False)"
   ]
  }
 ],
 "metadata": {
  "kernelspec": {
   "display_name": "Python 3.7.11 ('disconnect')",
   "language": "python",
   "name": "python3"
  },
  "language_info": {
   "codemirror_mode": {
    "name": "ipython",
    "version": 3
   },
   "file_extension": ".py",
   "mimetype": "text/x-python",
   "name": "python",
   "nbconvert_exporter": "python",
   "pygments_lexer": "ipython3",
   "version": "3.7.11"
  },
  "orig_nbformat": 4,
  "vscode": {
   "interpreter": {
    "hash": "62a5c23bac0bf145d7ec0eb9e5decf2b332bed83261177ad8717957e95ff6a41"
   }
  }
 },
 "nbformat": 4,
 "nbformat_minor": 2
}
