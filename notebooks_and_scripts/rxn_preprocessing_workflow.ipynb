{
 "cells": [
  {
   "cell_type": "code",
   "execution_count": null,
   "metadata": {},
   "outputs": [],
   "source": [
    "import pandas as pd"
   ]
  },
  {
   "cell_type": "markdown",
   "metadata": {},
   "source": [
    "# Tagging Products from Reaction SMILES\n",
    "As an example we demonstrate a basic pre-processing workflow for tagging products from a reaction SMILES. We start from the USPTO dataset which contain atom-mapped reaction SMILES, we recommend remapping the reaction SMILES with RXNMapper or an atom-mapping tool of your choice. Here we use the '1976_Sep2016_USPTOgrants_smiles.rsmi' obtained from unzipping '1976_Sep2016_USPTOgrants_smiles.7z', which can be found at:  \n",
    "\n",
    "[US Patent Office extracts (USPTO) by Lowe](https://figshare.com/articles/dataset/Chemical_reactions_from_US_patents_1976-Sep2016_/5104873)\n",
    "\n"
   ]
  },
  {
   "cell_type": "markdown",
   "metadata": {},
   "source": [
    "## Convert to tab separated file"
   ]
  },
  {
   "cell_type": "code",
   "execution_count": null,
   "metadata": {},
   "outputs": [],
   "source": [
    "df = pd.read_csv('1976_Sep2016_USPTOgrants_smiles.rsmi', sep='\\t')"
   ]
  },
  {
   "cell_type": "code",
   "execution_count": null,
   "metadata": {},
   "outputs": [],
   "source": [
    "df = df.sample(1000)"
   ]
  },
  {
   "cell_type": "code",
   "execution_count": null,
   "metadata": {},
   "outputs": [],
   "source": [
    "df.to_csv('1976_Sep2016_USPTOgrants_smiles.tsv', sep='\\t', index=None)"
   ]
  },
  {
   "cell_type": "markdown",
   "metadata": {},
   "source": [
    "## Run preprocessing"
   ]
  },
  {
   "cell_type": "code",
   "execution_count": null,
   "metadata": {},
   "outputs": [],
   "source": [
    "!rxn-data-pipeline --config-dir <path-to-config-dir> --config-name <config-name>"
   ]
  },
  {
   "cell_type": "markdown",
   "metadata": {},
   "source": [
    "Reactions can be remapped with RXNMapper using the following script if the configuration above is set to remove existing atom-maps"
   ]
  },
  {
   "cell_type": "code",
   "execution_count": null,
   "metadata": {},
   "outputs": [],
   "source": [
    "!python map_reactions.py --file <filename>.processed.csv --reaction_column ReactionSmiles"
   ]
  },
  {
   "cell_type": "markdown",
   "metadata": {},
   "source": [
    "Tag the products and obtain a distribution of the number of tagged atoms"
   ]
  },
  {
   "cell_type": "code",
   "execution_count": null,
   "metadata": {},
   "outputs": [],
   "source": [
    "!python tag_analysis --file_path <filename>.mapped.csv"
   ]
  },
  {
   "cell_type": "markdown",
   "metadata": {},
   "source": [
    "Tokenise and split the tagged dataset"
   ]
  },
  {
   "cell_type": "code",
   "execution_count": null,
   "metadata": {},
   "outputs": [],
   "source": [
    "!rxn-data-pipeline --config-dir <path-to-config-dir> --config-name <config-name>_continued.yaml"
   ]
  },
  {
   "cell_type": "markdown",
   "metadata": {},
   "source": [
    "The data can now be pre-processed with OpenNMT and a model trained"
   ]
  }
 ],
 "metadata": {
  "kernelspec": {
   "display_name": "Python 3.7.15 ('test')",
   "language": "python",
   "name": "python3"
  },
  "language_info": {
   "codemirror_mode": {
    "name": "ipython",
    "version": 3
   },
   "file_extension": ".py",
   "mimetype": "text/x-python",
   "name": "python",
   "nbconvert_exporter": "python",
   "pygments_lexer": "ipython3",
   "version": "3.7.15"
  },
  "orig_nbformat": 4,
  "vscode": {
   "interpreter": {
    "hash": "a8fffb9b41741f41ef95be7e4f9c74dffdbe0f08fc2be86c213456ec0cc01bf4"
   }
  }
 },
 "nbformat": 4,
 "nbformat_minor": 2
}
